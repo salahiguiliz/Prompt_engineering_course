{
 "cells": [
  {
   "cell_type": "markdown",
   "id": "29bfea1a",
   "metadata": {},
   "source": [
    "# Init"
   ]
  },
  {
   "cell_type": "code",
   "execution_count": 58,
   "id": "8e26782f",
   "metadata": {},
   "outputs": [
    {
     "data": {
      "text/plain": [
       "True"
      ]
     },
     "execution_count": 58,
     "metadata": {},
     "output_type": "execute_result"
    }
   ],
   "source": [
    "import os\n",
    "import smtplib\n",
    "from email.mime.text import MIMEText\n",
    "\n",
    "from tqdm.notebook import tqdm\n",
    "from dotenv import load_dotenv\n",
    "import pandas as pd\n",
    "\n",
    "load_dotenv()"
   ]
  },
  {
   "cell_type": "code",
   "execution_count": 63,
   "id": "12c2c192",
   "metadata": {},
   "outputs": [],
   "source": [
    "GMAIL_EMAIL_ADDRESS = os.getenv(\"GMAIL_EMAIL_ADDRESS\")\n",
    "GMAIL_PYTHON_PASSWORD = os.getenv(\"GMAIL_PYTHON_PASSWORD\")"
   ]
  },
  {
   "cell_type": "markdown",
   "id": "7d7f07cb",
   "metadata": {},
   "source": [
    "utils"
   ]
  },
  {
   "cell_type": "code",
   "execution_count": 64,
   "id": "404d6cc6",
   "metadata": {},
   "outputs": [],
   "source": [
    "def send_bulk_emails(subject, body, sender, recipients, app_password=GMAIL_PYTHON_PASSWORD):\n",
    "    with smtplib.SMTP_SSL('smtp.gmail.com', 465) as smtp_server:\n",
    "        smtp_server.login(sender, app_password)\n",
    "        for recipient in recipients:\n",
    "            msg = MIMEText(body, \"html\", \"utf-8\")  # Specify HTML and UTF-8\n",
    "            msg['Subject'] = subject\n",
    "            msg['From'] = sender\n",
    "            msg['To'] = recipient\n",
    "            smtp_server.sendmail(sender, recipient, msg.as_string())\n",
    "            print(f\"Message sent to {recipient}!\")"
   ]
  },
  {
   "cell_type": "markdown",
   "id": "512244a4",
   "metadata": {},
   "source": [
    "# Send Emails"
   ]
  },
  {
   "cell_type": "code",
   "execution_count": 65,
   "id": "f59941e4",
   "metadata": {},
   "outputs": [],
   "source": [
    "TITLE = \"OpenAI API key for the Prompt Engineering course\"\n",
    "BODY = \"\"\"\n",
    "<div dir=\"rtl\" style=\"font-family: Tahoma, Arial, sans-serif; font-size: 16px;\">\n",
    "السلام عليكم {name},<br><br>\n",
    "أنت من بين المشاركين في دورة هندسة البرومبت المقدمة للطلاب والمهندسين في غزة 😊.<br>\n",
    "في الأسفل ستجد مفتاح OpenAI API الخاص بك، والذي ستستخدمه ضمن دفاتر الدورة وأيضًا لتطوير مشاريعك الخاصة بعد الدورة.<br>\n",
    "يرجى الحفاظ عليه وعدم مشاركته مع أي شخص آخر.<br><br>\n",
    "مفتاح OpenAI API الخاص بك: {api_key}<br><br>\n",
    "يرجى ملاحظة أن استخدام هذا المفتاح محدود.<br>\n",
    "تأكد من عدم تجاوز حدود الاستخدام بعدم استخدامه في بيئة الإنتاج أو بطريقة قد تؤدي إلى رسوم غير متوقعة (مثل الحلقات اللانهائية).<br>\n",
    "إذا كنت بحاجة إلى زيادة في الاستخدام، يرجى التواصل معنا.<br><br>\n",
    "مع أطيب التحيات،<br>\n",
    "مصطفى أجغرير\n",
    "</div>\n",
    "\"\"\""
   ]
  },
  {
   "cell_type": "code",
   "execution_count": 67,
   "id": "0f90137e",
   "metadata": {},
   "outputs": [
    {
     "data": {
      "application/vnd.jupyter.widget-view+json": {
       "model_id": "5d475924b3f241c0bf80ea9351aaca63",
       "version_major": 2,
       "version_minor": 0
      },
      "text/plain": [
       "Sending emails:   0%|          | 0/25 [00:00<?, ?it/s]"
      ]
     },
     "metadata": {},
     "output_type": "display_data"
    },
    {
     "name": "stdout",
     "output_type": "stream",
     "text": [
      "Message sent to abdollahmarzoug@gmail.com!\n",
      "Message sent to m5u9s00@gmail.com!\n",
      "Message sent to mabuhassan@gov.ps!\n",
      "Message sent to hassan20abuhajar@gmail.com!\n",
      "Message sent to myarnwas@gmail.com!\n",
      "Message sent to rashaaburkab@gmail.com!\n",
      "Message sent to ikaskeen@smail.ucas.edu.ps!\n",
      "Message sent to moutasemabuserria@gmail.com!\n",
      "Message sent to israaosama2183@gmail.com!\n",
      "Message sent to layalfrh2016@gmail.com!\n",
      "Message sent to mnthyshbat@gmail.com!\n",
      "Message sent to nisreen.alyan99@gmail.com!\n",
      "Message sent to saboros@smail.ucas.edu.ps!\n",
      "Message sent to mahatareq81@gmail.com!\n",
      "Message sent to megdaddalia@gmail.com!\n",
      "Message sent to atefsarsour2@gmail.com!\n",
      "Message sent to saadmohammedafif@gmail.com!\n",
      "Message sent to r409683380@gmail.com!\n",
      "Message sent to mohammedsaadaang@gmail.com!\n",
      "Message sent to wael.h.alsaka@gmail.com!\n",
      "Message sent to farahsleem2004@gmail.com!\n",
      "Message sent to am6044463@gmail.com!\n",
      "Message sent to linahijjo7@gmail.com!\n",
      "Message sent to haneentech01@gmail.com!\n",
      "Message sent to loujayn.muhammad@gmail.com!\n"
     ]
    }
   ],
   "source": [
    "users_credentials = pd.read_csv(\"users_credentials.csv\")\n",
    "for _, row in tqdm(users_credentials.iterrows(), desc=\"Sending emails\", total=len(users_credentials)):\n",
    "    title = TITLE\n",
    "    body = BODY.format(name=row[\"name\"], api_key=row[\"open_ai_key\"])\n",
    "    send_bulk_emails(\n",
    "        subject=title,\n",
    "        body=body,\n",
    "        sender=GMAIL_EMAIL_ADDRESS,\n",
    "        recipients=[row[\"email\"]],\n",
    "        app_password=GMAIL_PYTHON_PASSWORD\n",
    "    )"
   ]
  }
 ],
 "metadata": {
  "kernelspec": {
   "display_name": "datascience2",
   "language": "python",
   "name": "python3"
  },
  "language_info": {
   "codemirror_mode": {
    "name": "ipython",
    "version": 3
   },
   "file_extension": ".py",
   "mimetype": "text/x-python",
   "name": "python",
   "nbconvert_exporter": "python",
   "pygments_lexer": "ipython3",
   "version": "3.13.2"
  }
 },
 "nbformat": 4,
 "nbformat_minor": 5
}
