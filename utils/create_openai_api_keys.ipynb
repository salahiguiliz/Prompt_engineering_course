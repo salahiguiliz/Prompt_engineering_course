{
 "cells": [
  {
   "cell_type": "markdown",
   "id": "4b2f34a9",
   "metadata": {},
   "source": [
    "# Init"
   ]
  },
  {
   "cell_type": "code",
   "execution_count": 1,
   "id": "7236b728",
   "metadata": {},
   "outputs": [],
   "source": [
    "import os\n",
    "\n",
    "from dotenv import load_dotenv\n",
    "import requests\n",
    "import pandas as pd\n",
    "from tqdm.notebook import tqdm\n",
    "\n",
    "load_dotenv()\n",
    "\n",
    "ADMIN_API_KEY = os.getenv(\"ADMIN_OPENAI_API_KEY\")\n",
    "BASE_URL = \"https://api.openai.com/v1\"  # May be different for enterprise\n",
    "\n",
    "HEADERS = {\n",
    "    \"Authorization\": f\"Bearer {ADMIN_API_KEY}\",\n",
    "    \"Content-Type\": \"application/json\",\n",
    "}"
   ]
  },
  {
   "cell_type": "markdown",
   "id": "faf50324",
   "metadata": {},
   "source": [
    "utils"
   ]
  },
  {
   "cell_type": "code",
   "execution_count": 4,
   "id": "7045dcfc",
   "metadata": {},
   "outputs": [],
   "source": [
    "def create_project(project_name):\n",
    "    response = requests.post(\n",
    "        f\"{BASE_URL}/organization/projects\",\n",
    "        headers=HEADERS,\n",
    "        json={\n",
    "            \"name\": f\"{project_name}\",\n",
    "        }\n",
    "    )\n",
    "    project = response.json()\n",
    "    if response.status_code//100 != 2:\n",
    "        raise Exception(f\"Failed to create project: {response.text}\")\n",
    "    print(f\"Project created: {project['id']} - {project['name']}\")"
   ]
  },
  {
   "cell_type": "markdown",
   "id": "16627353",
   "metadata": {},
   "source": [
    "# Load users & create projects"
   ]
  },
  {
   "cell_type": "code",
   "execution_count": 5,
   "id": "54e108c3",
   "metadata": {},
   "outputs": [
    {
     "data": {
      "application/vnd.jupyter.widget-view+json": {
       "model_id": "6581dcdf694d4312a858c0705d8543f1",
       "version_major": 2,
       "version_minor": 0
      },
      "text/plain": [
       "0it [00:00, ?it/s]"
      ]
     },
     "metadata": {},
     "output_type": "display_data"
    },
    {
     "name": "stdout",
     "output_type": "stream",
     "text": [
      "Project created: proj_iY4NKecSHNEd52vffDxFna2R - stu_1\n",
      "Project created: proj_Znq87YUUwo09rcYwhtJCAZ0E - stu_2\n",
      "Project created: proj_HsQe9CU9yoImFJjc37xGKjhf - stu_3\n",
      "Project created: proj_ubeZchmPpd8gSq6ELUMjmvNy - stu_4\n",
      "Project created: proj_cCmvveI2phGLVxs6mFh1i1aH - stu_5\n",
      "Project created: proj_i2j6vK7154dyw71KSJ9eHNve - stu_6\n",
      "Project created: proj_2Ma1zIAJ9dit07DW2YjjjDyX - stu_7\n",
      "Project created: proj_XGupTjrWjwUtmBl132vBJIYU - stu_8\n",
      "Project created: proj_39JBrKfI3A4L6RMdZSNPydrz - stu_9\n",
      "Project created: proj_bcO0AhzOO1fJW4TE7DDKb5jv - stu_10\n",
      "Project created: proj_CNafn9EohnmxhbPPnu0eU7dL - stu_11\n",
      "Project created: proj_CgsKAZi3cOVZaWWNyGwAh2kF - stu_12\n",
      "Project created: proj_ub5R2veVgMJbZhugWmW4IY3f - stu_13\n",
      "Project created: proj_xJUTudVqsqILhqNZcym7DPbX - stu_14\n",
      "Project created: proj_5OOiYoR9a012eWBChUWFWFiw - stu_15\n",
      "Project created: proj_KnJ2WHSkuXCnaB4HkJfQPP3x - stu_16\n",
      "Project created: proj_Y76ltsqMJ2LxQH62SkOHEvlP - stu_17\n",
      "Project created: proj_bHxbEN8pcoWiis3IoxvEdwbP - stu_18\n",
      "Project created: proj_28ZmDlXzXcyEoBgRbv8ocoOz - stu_19\n",
      "Project created: proj_c10BL2XEgWNG671kl1rtBDCG - stu_20\n",
      "Project created: proj_d7eX2z2lY4CPwfPM0CuPPRkh - stu_21\n",
      "Project created: proj_NCLyV04hj8anXwH6s4Ox5zOD - stu_22\n",
      "Project created: proj_r4P847vlazUKo9G8QqqCC4Rc - stu_23\n"
     ]
    }
   ],
   "source": [
    "users = pd.read_csv(\"users.csv\")\n",
    "\n",
    "for _, user in tqdm(users.iterrows()):\n",
    "    project_name = user['project_name']\n",
    "    create_project(project_name)"
   ]
  }
 ],
 "metadata": {
  "kernelspec": {
   "display_name": "datascience2",
   "language": "python",
   "name": "python3"
  },
  "language_info": {
   "codemirror_mode": {
    "name": "ipython",
    "version": 3
   },
   "file_extension": ".py",
   "mimetype": "text/x-python",
   "name": "python",
   "nbconvert_exporter": "python",
   "pygments_lexer": "ipython3",
   "version": "3.13.2"
  }
 },
 "nbformat": 4,
 "nbformat_minor": 5
}
