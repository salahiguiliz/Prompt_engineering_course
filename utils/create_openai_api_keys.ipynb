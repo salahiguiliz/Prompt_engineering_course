{
 "cells": [
  {
   "cell_type": "markdown",
   "id": "4b2f34a9",
   "metadata": {},
   "source": [
    "# Init"
   ]
  },
  {
   "cell_type": "code",
   "execution_count": 1,
   "id": "7236b728",
   "metadata": {},
   "outputs": [],
   "source": [
    "import os\n",
    "\n",
    "from dotenv import load_dotenv\n",
    "import requests\n",
    "import pandas as pd\n",
    "from tqdm.notebook import tqdm\n",
    "\n",
    "load_dotenv()\n",
    "\n",
    "ADMIN_API_KEY = os.getenv(\"ADMIN_OPENAI_API_KEY\")\n",
    "BASE_URL = \"https://api.openai.com/v1\"  # May be different for enterprise\n",
    "\n",
    "HEADERS = {\n",
    "    \"Authorization\": f\"Bearer {ADMIN_API_KEY}\",\n",
    "    \"Content-Type\": \"application/json\",\n",
    "}"
   ]
  },
  {
   "cell_type": "markdown",
   "id": "faf50324",
   "metadata": {},
   "source": [
    "utils"
   ]
  },
  {
   "cell_type": "code",
   "execution_count": 2,
   "id": "7045dcfc",
   "metadata": {},
   "outputs": [],
   "source": [
    "def create_project(project_name):\n",
    "    response = requests.post(\n",
    "        f\"{BASE_URL}/organization/projects\",\n",
    "        headers=HEADERS,\n",
    "        json={\n",
    "            \"name\": f\"{project_name}\",\n",
    "        }\n",
    "    )\n",
    "    project = response.json()\n",
    "    if response.status_code//100 != 2:\n",
    "        raise Exception(f\"Failed to create project: {response.text}\")\n",
    "    print(f\"Project created: {project['id']} - {project['name']}\")\n",
    "\n",
    "def list_projects():\n",
    "    response = requests.get(\n",
    "        f\"{BASE_URL}/organization/projects\",\n",
    "        headers=HEADERS,\n",
    "        params={\"limit\": 1000}  # Adjust limit as needed\n",
    "    )\n",
    "    projects = response.json()\n",
    "    if response.status_code//100 != 2:\n",
    "        raise Exception(f\"Failed to list projects: {response.text}\")\n",
    "    return pd.DataFrame(projects['data'])"
   ]
  },
  {
   "cell_type": "markdown",
   "id": "16627353",
   "metadata": {},
   "source": [
    "# Load users & create projects"
   ]
  },
  {
   "cell_type": "code",
   "execution_count": 3,
   "id": "d98d5f37",
   "metadata": {},
   "outputs": [],
   "source": [
    "existing_projects = list_projects()\n",
    "existing_projects_names = set(existing_projects['name'].tolist())"
   ]
  },
  {
   "cell_type": "code",
   "execution_count": 4,
   "id": "54e108c3",
   "metadata": {},
   "outputs": [
    {
     "data": {
      "application/vnd.jupyter.widget-view+json": {
       "model_id": "7113585ff0a8432e96ea23ab179d0252",
       "version_major": 2,
       "version_minor": 0
      },
      "text/plain": [
       "0it [00:00, ?it/s]"
      ]
     },
     "metadata": {},
     "output_type": "display_data"
    },
    {
     "name": "stdout",
     "output_type": "stream",
     "text": [
      "Project 'stu_1' already exists, skipping creation.\n",
      "Project 'stu_2' already exists, skipping creation.\n",
      "Project 'stu_3' already exists, skipping creation.\n",
      "Project 'stu_4' already exists, skipping creation.\n",
      "Project 'stu_5' already exists, skipping creation.\n",
      "Project 'stu_6' already exists, skipping creation.\n",
      "Project 'stu_7' already exists, skipping creation.\n",
      "Project 'stu_8' already exists, skipping creation.\n",
      "Project 'stu_9' already exists, skipping creation.\n",
      "Project 'stu_10' already exists, skipping creation.\n",
      "Project 'stu_11' already exists, skipping creation.\n",
      "Project 'stu_12' already exists, skipping creation.\n",
      "Project 'stu_13' already exists, skipping creation.\n",
      "Project 'stu_14' already exists, skipping creation.\n",
      "Project 'stu_15' already exists, skipping creation.\n",
      "Project 'stu_16' already exists, skipping creation.\n",
      "Project 'stu_17' already exists, skipping creation.\n",
      "Project 'stu_18' already exists, skipping creation.\n",
      "Project 'stu_19' already exists, skipping creation.\n",
      "Project 'stu_20' already exists, skipping creation.\n",
      "Project 'stu_21' already exists, skipping creation.\n",
      "Project 'stu_22' already exists, skipping creation.\n",
      "Project 'stu_23' already exists, skipping creation.\n",
      "Project 'stu_24' already exists, skipping creation.\n",
      "Project 'stu_25' already exists, skipping creation.\n",
      "Project 'stu_26' already exists, skipping creation.\n",
      "Project created: proj_5I08PFsnSuuQ4azwbao4uyDM - stu_27\n"
     ]
    }
   ],
   "source": [
    "users = pd.read_csv(\"users.csv\")\n",
    "\n",
    "for _, user in tqdm(users.iterrows()):\n",
    "    if user['project_name'] in existing_projects_names:\n",
    "        print(f\"Project '{user['project_name']}' already exists, skipping creation.\")\n",
    "        continue\n",
    "    project_name = user['project_name']\n",
    "    create_project(project_name)"
   ]
  }
 ],
 "metadata": {
  "kernelspec": {
   "display_name": "datascience2",
   "language": "python",
   "name": "python3"
  },
  "language_info": {
   "codemirror_mode": {
    "name": "ipython",
    "version": 3
   },
   "file_extension": ".py",
   "mimetype": "text/x-python",
   "name": "python",
   "nbconvert_exporter": "python",
   "pygments_lexer": "ipython3",
   "version": "3.13.2"
  }
 },
 "nbformat": 4,
 "nbformat_minor": 5
}
